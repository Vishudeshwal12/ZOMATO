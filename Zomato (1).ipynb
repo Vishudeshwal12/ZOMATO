{
  "nbformat": 4,
  "nbformat_minor": 0,
  "metadata": {
    "colab": {
      "private_outputs": true,
      "provenance": []
    },
    "kernelspec": {
      "name": "python3",
      "display_name": "Python 3"
    },
    "language_info": {
      "name": "python"
    }
  },
  "cells": [
    {
      "cell_type": "code",
      "execution_count": null,
      "metadata": {
        "id": "VnQ8lrQR8GcC"
      },
      "outputs": [],
      "source": [
        "import numpy as np\n",
        "import pandas as pd\n",
        "import matplotlib.pyplot as plt\n",
        "import seaborn as sns"
      ]
    },
    {
      "cell_type": "code",
      "source": [
        "from google.colab import drive\n",
        "drive.mount('/content/drive')\n"
      ],
      "metadata": {
        "id": "6vo9EQrD8Ut1"
      },
      "execution_count": null,
      "outputs": []
    },
    {
      "cell_type": "code",
      "source": [
        "\n",
        "file_path = \"/content/drive/MyDrive/resturent practice/Copy of Indian-Resturants.csv\""
      ],
      "metadata": {
        "id": "2puuOOCd8rbn"
      },
      "execution_count": null,
      "outputs": []
    },
    {
      "cell_type": "code",
      "source": [
        "df = pd.read_csv(file_path, encoding='latin-1')\n"
      ],
      "metadata": {
        "id": "ROAoZTp55sTl"
      },
      "execution_count": null,
      "outputs": []
    },
    {
      "cell_type": "code",
      "source": [
        "df.shape"
      ],
      "metadata": {
        "id": "avgQJL7Q9MQd"
      },
      "execution_count": null,
      "outputs": []
    },
    {
      "cell_type": "code",
      "source": [
        "pd.set_option = ('display.max.columns', None)"
      ],
      "metadata": {
        "id": "b9DXYX8p9Wda"
      },
      "execution_count": null,
      "outputs": []
    },
    {
      "cell_type": "code",
      "source": [
        "df.head()"
      ],
      "metadata": {
        "id": "-E0aazxq9jhi"
      },
      "execution_count": null,
      "outputs": []
    },
    {
      "cell_type": "code",
      "source": [
        "df.drop('zipcode', axis=1, inplace=True)"
      ],
      "metadata": {
        "id": "xtIG5KrU22B4"
      },
      "execution_count": null,
      "outputs": []
    },
    {
      "cell_type": "code",
      "source": [
        "df.describe()"
      ],
      "metadata": {
        "id": "WX_Z4Gbj9uht"
      },
      "execution_count": null,
      "outputs": []
    },
    {
      "cell_type": "code",
      "source": [
        "df.duplicated().sum()"
      ],
      "metadata": {
        "id": "d7xTO8S_6lrF"
      },
      "execution_count": null,
      "outputs": []
    },
    {
      "cell_type": "code",
      "source": [
        "df.drop_duplicates(inplace=True)"
      ],
      "metadata": {
        "id": "EMUGMKP56rqg"
      },
      "execution_count": null,
      "outputs": []
    },
    {
      "cell_type": "code",
      "source": [
        "df.info()"
      ],
      "metadata": {
        "id": "OHt8zadXe8X-"
      },
      "execution_count": null,
      "outputs": []
    },
    {
      "cell_type": "code",
      "source": [
        "df.describe()"
      ],
      "metadata": {
        "id": "EGdDihlgjvyV"
      },
      "execution_count": null,
      "outputs": []
    },
    {
      "cell_type": "code",
      "source": [
        "df.shape"
      ],
      "metadata": {
        "id": "OJYvyGBA3L2W"
      },
      "execution_count": null,
      "outputs": []
    },
    {
      "cell_type": "code",
      "source": [
        "df.isnull().sum()"
      ],
      "metadata": {
        "id": "RIZnyn-395_2"
      },
      "execution_count": null,
      "outputs": []
    },
    {
      "cell_type": "code",
      "source": [
        "sns.heatmap(df.isnull())\n",
        "plt.show()"
      ],
      "metadata": {
        "id": "pB9C0QCsSS3i"
      },
      "execution_count": null,
      "outputs": []
    },
    {
      "cell_type": "code",
      "source": [
        "df['address'] = df['address'].fillna('no address')"
      ],
      "metadata": {
        "id": "8GtR5QOo65aH"
      },
      "execution_count": null,
      "outputs": []
    },
    {
      "cell_type": "code",
      "source": [
        "df['cuisines'] = df['cuisines'].fillna('no cuisines')"
      ],
      "metadata": {
        "id": "SJ13YNLwQUiJ"
      },
      "execution_count": null,
      "outputs": []
    },
    {
      "cell_type": "code",
      "source": [
        "df['timings']= df['timings'].fillna('no timing')"
      ],
      "metadata": {
        "id": "WavkkkjPQg-l"
      },
      "execution_count": null,
      "outputs": []
    },
    {
      "cell_type": "code",
      "source": [
        "opentable_support_median = df['opentable_support'].median()\n",
        "opentable_support_median"
      ],
      "metadata": {
        "id": "K2yOtpDkQwmk"
      },
      "execution_count": null,
      "outputs": []
    },
    {
      "cell_type": "code",
      "source": [
        "df['opentable_support'] = df['opentable_support'].fillna(opentable_support_median)"
      ],
      "metadata": {
        "id": "gRi5BR9lIS9m"
      },
      "execution_count": null,
      "outputs": []
    },
    {
      "cell_type": "code",
      "source": [
        "df.isnull().sum()"
      ],
      "metadata": {
        "id": "YZU0yfPQQ8CZ"
      },
      "execution_count": null,
      "outputs": []
    },
    {
      "cell_type": "code",
      "source": [
        "sns.heatmap(df.isnull())\n",
        "plt.show()"
      ],
      "metadata": {
        "id": "dVkuc8l7RbQu"
      },
      "execution_count": null,
      "outputs": []
    },
    {
      "cell_type": "code",
      "source": [
        "fig, axes = plt.subplots(2, 2, figsize=(6, 6))\n",
        "\n",
        "sns.boxplot(x=df['average_cost_for_two'], ax=axes[0, 0])\n",
        "axes[0, 0].set_title('average_cost_for_two')\n",
        "\n",
        "sns.boxplot(x=df['votes'], ax=axes[0, 1])\n",
        "axes[0, 1].set_title('votes')\n",
        "\n",
        "sns.boxplot(x=df['photo_count'], ax=axes[1, 0])\n",
        "axes[1, 0].set_title('photo_count')\n",
        "\n",
        "fig.delaxes(axes[1, 1])\n",
        "\n",
        "plt.tight_layout()\n",
        "plt.show()"
      ],
      "metadata": {
        "id": "ZBjCHR1tFQp-"
      },
      "execution_count": null,
      "outputs": []
    },
    {
      "cell_type": "code",
      "source": [
        "for column in ['average_cost_for_two' , 'votes', 'photo_count']:\n",
        "    Q1 = df[column].quantile(0.25)\n",
        "    Q3 = df[column].quantile(0.75)\n",
        "    IQR = Q3 - Q1\n",
        "    lower_bound = Q1 - 1.5 * IQR\n",
        "    upper_bound = Q3 + 1.5 * IQR\n",
        "    df[column] = np.where(df[column] < lower_bound, lower_bound, df[column])\n",
        "    df[column] = np.where(df[column] > upper_bound, upper_bound, df[column])"
      ],
      "metadata": {
        "id": "yWD8mwkPPveA"
      },
      "execution_count": null,
      "outputs": []
    },
    {
      "cell_type": "code",
      "source": [
        "fig, axes = plt.subplots(2, 2, figsize=(6, 6))\n",
        "\n",
        "sns.boxplot(x=df['average_cost_for_two'], ax=axes[0, 0])\n",
        "axes[0, 0].set_title('average_cost_for_two')\n",
        "\n",
        "sns.boxplot(x=df['votes'], ax=axes[0, 1])\n",
        "axes[0, 1].set_title('votes')\n",
        "\n",
        "sns.boxplot(x=df['photo_count'], ax=axes[1, 0])\n",
        "axes[1, 0].set_title('photo_count')\n",
        "\n",
        "fig.delaxes(axes[1, 1])\n",
        "\n",
        "plt.tight_layout()\n",
        "plt.show()"
      ],
      "metadata": {
        "id": "_2vbf-fYFeht"
      },
      "execution_count": null,
      "outputs": []
    },
    {
      "cell_type": "code",
      "source": [
        "# Calculate and visualize the average rating of restaurants."
      ],
      "metadata": {
        "id": "VOd8LZk3ZfcQ"
      },
      "execution_count": null,
      "outputs": []
    },
    {
      "cell_type": "code",
      "source": [
        "average_rating = df['aggregate_rating'].mean()\n",
        "print(f\"The average rating of restaurants is: {average_rating}\")\n"
      ],
      "metadata": {
        "id": "ojvZEYaVQbCU"
      },
      "execution_count": null,
      "outputs": []
    },
    {
      "cell_type": "code",
      "source": [
        "plt.figure(figsize=(6, 4))\n",
        "plt.bar(['Average Rating'], [average_rating], color='skyblue')\n",
        "plt.title('Average Rating of Restaurants')\n",
        "plt.ylabel('Rating')\n",
        "plt.ylim(0, 5)\n",
        "plt.show()"
      ],
      "metadata": {
        "id": "0QLS-8YrNG2Q"
      },
      "execution_count": null,
      "outputs": []
    },
    {
      "cell_type": "code",
      "source": [
        "# Analyze the distribution of restaurant ratings to understand the overall rating landscape."
      ],
      "metadata": {
        "id": "r3PweZPcZG3g"
      },
      "execution_count": null,
      "outputs": []
    },
    {
      "cell_type": "code",
      "source": [
        "plt.figure(figsize=(8, 6))\n",
        "sns.histplot(df['aggregate_rating'], bins=10, kde=True)\n",
        "plt.title('Distribution of  overall Restaurant Ratings')\n",
        "plt.xlabel('Aggregate Rating')\n",
        "plt.ylabel('Frequency')\n",
        "plt.show()"
      ],
      "metadata": {
        "id": "EKafvv-tLSIN"
      },
      "execution_count": null,
      "outputs": []
    },
    {
      "cell_type": "code",
      "source": [
        "# Identify the city with the highest concentration of restaurants"
      ],
      "metadata": {
        "id": "MZ1ncIv-ZQgM"
      },
      "execution_count": null,
      "outputs": []
    },
    {
      "cell_type": "code",
      "source": [
        "city_restaurant_counts = df['city'].value_counts().reset_index()\n",
        "city_restaurant_counts.columns = ['city', 'restaurant_count']\n",
        "highest_concentration_city = city_restaurant_counts.loc[city_restaurant_counts['restaurant_count'].idxmax()]\n"
      ],
      "metadata": {
        "id": "xyvAIDOT5VOq"
      },
      "execution_count": null,
      "outputs": []
    },
    {
      "cell_type": "code",
      "source": [
        "print(f\"City with the highest concentration of restaurants: {highest_concentration_city['city']}\")\n",
        "print(f\"Number of restaurants: {highest_concentration_city['restaurant_count']}\")"
      ],
      "metadata": {
        "id": "9wGEdTkW5VOq"
      },
      "execution_count": null,
      "outputs": []
    },
    {
      "cell_type": "code",
      "source": [
        "\n",
        "top_cities = city_restaurant_counts.head(10)\n",
        "\n",
        "plt.figure(figsize=(7, 7))\n",
        "sns.barplot(x='city', y='restaurant_count', data=top_cities, color = \"violet\")\n",
        "plt.title('Top Cities with Highest Restaurant')\n",
        "plt.xlabel('City')\n",
        "plt.ylabel('Number of Restaurants')\n",
        "plt.xticks(rotation=45, ha='right')\n",
        "plt.show()"
      ],
      "metadata": {
        "id": "vYMBAxWT5VOq"
      },
      "execution_count": null,
      "outputs": []
    },
    {
      "cell_type": "code",
      "source": [
        "# Visualize the distribution of restaurant ratings across different cities."
      ],
      "metadata": {
        "id": "5YYAvAfAWNz0"
      },
      "execution_count": null,
      "outputs": []
    },
    {
      "cell_type": "code",
      "source": [
        "city_ratings = df.groupby(['city', 'aggregate_rating'])['name'].count().reset_index()\n",
        "city_ratings.rename(columns={'name': 'count'}, inplace=True)"
      ],
      "metadata": {
        "id": "P4lRoxWjeQl4"
      },
      "execution_count": null,
      "outputs": []
    },
    {
      "cell_type": "code",
      "source": [
        "plt.figure(figsize=(8, 8))\n",
        "sns.boxplot(x='city', y='aggregate_rating', data=city_ratings, palette=\"Set3\")\n",
        "plt.title('Distribution of Restaurant Ratings Across Cities')\n",
        "plt.xlabel('City')\n",
        "plt.ylabel('Aggregate Rating')\n",
        "plt.xticks(rotation=90)\n",
        "plt.tight_layout()\n",
        "plt.show()"
      ],
      "metadata": {
        "id": "D-0gKtYqRrDV"
      },
      "execution_count": null,
      "outputs": []
    },
    {
      "cell_type": "code",
      "source": [
        "# Determine the most popular cuisines among the listed restaurants. Investigate if there's a correlation between the variety of cuisines offered and restaurant ratings."
      ],
      "metadata": {
        "id": "oVyOOB5BWEGi"
      },
      "execution_count": null,
      "outputs": []
    },
    {
      "cell_type": "code",
      "source": [
        "most_popuular_cuisines = df['cuisines'].value_counts().head(10)\n",
        "most_popuular_cuisines"
      ],
      "metadata": {
        "id": "9IHG0INDYgwV"
      },
      "execution_count": null,
      "outputs": []
    },
    {
      "cell_type": "code",
      "source": [
        "df['cuisine_variety'] = df['cuisines'].str.split(',').str.len()\n",
        "df['cuisine_variety'] = df['cuisines'].str.split(',').str.len()\n",
        "\n",
        "corelation = df['cuisine_variety'].corr(df['aggregate_rating'])\n",
        "print(f' the corelations between cuisine_variety and aggregate_rating is {corelation}')\n"
      ],
      "metadata": {
        "id": "CfhzsZxGcdSH"
      },
      "execution_count": null,
      "outputs": []
    },
    {
      "cell_type": "code",
      "source": [
        "\n",
        "plt.figure(figsize=(8, 6))\n",
        "sns.scatterplot(x='cuisine_variety', y='aggregate_rating', data=df , color = 'orchid')\n",
        "plt.title('Correlation between Cuisine Variety and Restaurant Ratings')\n",
        "plt.xlabel('Number of Cuisines Offered')\n",
        "plt.ylabel('Aggregate Rating')\n",
        "plt.show()"
      ],
      "metadata": {
        "id": "3Jr06It2hsnx"
      },
      "execution_count": null,
      "outputs": []
    },
    {
      "cell_type": "code",
      "source": [
        "# Analyze the relationship between price range and restaurant ratings."
      ],
      "metadata": {
        "id": "i5jbD6OJWBM8"
      },
      "execution_count": null,
      "outputs": []
    },
    {
      "cell_type": "code",
      "source": [
        "plt.figure(figsize = (10 , 6))\n",
        "sns.scatterplot(x = 'price_range' , y = 'aggregate_rating' , data = df, color = 'Cyan')\n",
        "plt.xlabel('price_rating')\n",
        "plt.ylabel('resturent_ratings')\n",
        "plt.title('price_rating vs resturent_rating')\n",
        "plt.show()\n"
      ],
      "metadata": {
        "id": "t1GESxxIds4W"
      },
      "execution_count": null,
      "outputs": []
    },
    {
      "cell_type": "markdown",
      "source": [
        "'price_rating vs resturent_rating'"
      ],
      "metadata": {
        "id": "A_zANzshYk5N"
      }
    },
    {
      "cell_type": "code",
      "source": [
        "# Visualize the average cost for two people in different price categories."
      ],
      "metadata": {
        "id": "8VEexpEyV_Xg"
      },
      "execution_count": null,
      "outputs": []
    },
    {
      "cell_type": "code",
      "source": [
        "average_cost  = df['average_cost_for_two'].mean()\n",
        "print(f'the average cost of resturent is {average_cost}')"
      ],
      "metadata": {
        "id": "eBGLxlnHgjjq"
      },
      "execution_count": null,
      "outputs": []
    },
    {
      "cell_type": "code",
      "source": [
        "plt.figure(figsize=(10, 6))\n",
        "sns.barplot(x='price_range', y='average_cost_for_two', data=df , color = 'Magenta')\n",
        "plt.title('Average Cost for Two People in Different Price Categories')\n",
        "plt.xlabel('Price Range')\n",
        "plt.ylabel('Average Cost for Two')\n",
        "plt.show()\n"
      ],
      "metadata": {
        "id": "Hnq0RCUKdO4y"
      },
      "execution_count": null,
      "outputs": []
    },
    {
      "cell_type": "code",
      "source": [
        "# Investigate the impact of online order availability on restaurant ratings. Analyze the distribution of restaurants that offer table booking."
      ],
      "metadata": {
        "id": "zdqxOYjAV9Hx"
      },
      "execution_count": null,
      "outputs": []
    },
    {
      "cell_type": "code",
      "source": [
        "df['table_booking_available'] = df['highlights'].str.contains('table booking', case=False, na=False).astype(int)\n"
      ],
      "metadata": {
        "id": "4etTQkJH9Lhq"
      },
      "execution_count": null,
      "outputs": []
    },
    {
      "cell_type": "code",
      "source": [
        "plt.figure(figsize=(8, 6))\n",
        "sns.countplot(x='table_booking_available', data=df)\n",
        "plt.title('Distribution of Restaurants with Table Booking')\n",
        "plt.xlabel('Table Booking Available (1=Yes, 0=No)')\n",
        "plt.ylabel('Count')\n",
        "plt.show()"
      ],
      "metadata": {
        "id": "HwU0EJoC9OmW"
      },
      "execution_count": null,
      "outputs": []
    },
    {
      "cell_type": "markdown",
      "source": [
        "Distribution of Restaurants with Table Booking"
      ],
      "metadata": {
        "id": "kuispcUAYWFf"
      }
    },
    {
      "cell_type": "code",
      "source": [
        "# identify and visualize the top restaurant chains based on the number of outlets. Explore the ratings of these top chains."
      ],
      "metadata": {
        "id": "8KxWBDS5Vzs0"
      },
      "execution_count": null,
      "outputs": []
    },
    {
      "cell_type": "code",
      "source": [
        "chain_counts = df.groupby('name')['name'].count().reset_index(name='outlet_count')\n",
        "top_chains_df = chain_counts.sort_values('outlet_count', ascending=False).head(10)\n",
        "print(top_chains_df)"
      ],
      "metadata": {
        "id": "VzkhCvbhNu8Z"
      },
      "execution_count": null,
      "outputs": []
    },
    {
      "cell_type": "code",
      "source": [
        "plt.figure(figsize=(10, 6))\n",
        "sns.barplot(x='name', y='outlet_count', data=top_chains_df , color = 'green')\n",
        "plt.title('Top Restaurant Chains by Number of Outlets')\n",
        "plt.xlabel('Chain Name')\n",
        "plt.ylabel('Number of Outlets')\n",
        "plt.xticks(rotation=90, ha='right')\n",
        "plt.show()"
      ],
      "metadata": {
        "id": "6VGYAkkL1bhb"
      },
      "execution_count": null,
      "outputs": []
    },
    {
      "cell_type": "code",
      "source": [
        "# Analyze the distribution of restaurants based on features like Wi-Fi, Alcohol availability, etc. Investigate if the presence of certain features correlates with higher ratings."
      ],
      "metadata": {
        "id": "mbA2RdK5V5-g"
      },
      "execution_count": null,
      "outputs": []
    },
    {
      "cell_type": "code",
      "source": [
        "df['has_wifi'] = df['highlights'].str.contains('Wi-Fi', case=False, na=False).astype(int)\n"
      ],
      "metadata": {
        "id": "dUsD_zST3Tam"
      },
      "execution_count": null,
      "outputs": []
    },
    {
      "cell_type": "code",
      "source": [
        "df['alcohol_availability'] = df['highlights'].str.contains('Alcohol', case=False, na=False).astype(int)\n"
      ],
      "metadata": {
        "id": "O6Xi23d93sLi"
      },
      "execution_count": null,
      "outputs": []
    },
    {
      "cell_type": "code",
      "source": [
        "wifi_counts = df['has_wifi'].value_counts()\n",
        "print(\"Wi-Fi Availability:\")\n",
        "print(wifi_counts)\n",
        "\n",
        "\n",
        "alcohol_counts = df['alcohol_availability'].value_counts()\n",
        "print(\"\\nAlcohol Availability:\")\n",
        "print(alcohol_counts)"
      ],
      "metadata": {
        "id": "f1vHv7dr4iA3"
      },
      "execution_count": null,
      "outputs": []
    },
    {
      "cell_type": "code",
      "source": [
        "alcohol_correlation = df['alcohol_availability'].corr(df['aggregate_rating'])\n",
        "print(f\"Correlation between alcohol availability and aggregate rating: {alcohol_correlation}\")\n"
      ],
      "metadata": {
        "id": "9JyG8duA5i7X"
      },
      "execution_count": null,
      "outputs": []
    },
    {
      "cell_type": "code",
      "source": [
        "plt.figure(figsize=(8, 6))\n",
        "sns.countplot(x='has_wifi', data=df, color = 'teal')\n",
        "plt.title('Distribution of Restaurants with Wi-Fi')\n",
        "plt.xlabel('Wi-Fi Availability (1=Yes, 0=No)')\n",
        "plt.ylabel('Number of Restaurants')\n",
        "plt.show()"
      ],
      "metadata": {
        "id": "vMLJuG-D42Fq"
      },
      "execution_count": null,
      "outputs": []
    },
    {
      "cell_type": "markdown",
      "source": [
        "Distribution of Restaurants with Wi-Fi"
      ],
      "metadata": {
        "id": "55g6CdSfYAXf"
      }
    },
    {
      "cell_type": "code",
      "source": [
        "plt.figure(figsize=(8, 6))\n",
        "sns.countplot(x='alcohol_availability', data=df, color = 'orange')\n",
        "plt.title('Distribution of Restaurants with Alcohol')\n",
        "plt.xlabel('Alcohol Availability (1=Yes, 0=No)')\n",
        "plt.ylabel('Number of Restaurants')\n",
        "plt.show()"
      ],
      "metadata": {
        "id": "Cj4__1Z06NaK"
      },
      "execution_count": null,
      "outputs": []
    },
    {
      "cell_type": "markdown",
      "source": [
        "Distribution of Restaurants with Alcohol"
      ],
      "metadata": {
        "id": "1pMWFhI9X0gx"
      }
    },
    {
      "cell_type": "code",
      "source": [
        "top_7_Cuisines = df['cuisines'].value_counts().head(7)\n",
        "top_7_Cuisines"
      ],
      "metadata": {
        "id": "MQs3W_XXEoz1"
      },
      "execution_count": null,
      "outputs": []
    },
    {
      "cell_type": "code",
      "source": [
        "# top 7 Cuisines"
      ],
      "metadata": {
        "id": "KkuWzIqIqQ39"
      },
      "execution_count": null,
      "outputs": []
    },
    {
      "cell_type": "code",
      "source": [
        "sns.barplot(x=top_7_Cuisines.index, y=top_7_Cuisines.values)\n",
        "plt.title('Top 7 Cuisines')\n",
        "plt.xlabel('Cuisine')\n",
        "plt.ylabel('Count')\n",
        "plt.xticks(rotation=90)\n",
        "plt.show()"
      ],
      "metadata": {
        "id": "ycaeYLxNEy0X"
      },
      "execution_count": null,
      "outputs": []
    },
    {
      "cell_type": "code",
      "source": [
        "# Distribution of Average Cost for Two"
      ],
      "metadata": {
        "id": "xgXda-FIqWtf"
      },
      "execution_count": null,
      "outputs": []
    },
    {
      "cell_type": "code",
      "source": [
        "\n",
        "\n",
        "plt.figure(figsize=(10, 5))\n",
        "sns.histplot(df['average_cost_for_two'], bins=30, kde=True)\n",
        "plt.title('Distribution of Average Cost for Two')\n",
        "plt.xlabel('Average Cost for Two')\n",
        "plt.ylabel('Frequency')\n",
        "plt.show()"
      ],
      "metadata": {
        "id": "QaIO7sW_IARf"
      },
      "execution_count": null,
      "outputs": []
    },
    {
      "cell_type": "code",
      "source": [
        "# Relationship between Price Rating and Restaurant Rating"
      ],
      "metadata": {
        "id": "Z7-F8Vz9qeF1"
      },
      "execution_count": null,
      "outputs": []
    },
    {
      "cell_type": "code",
      "source": [
        "plt.figure(figsize=(10, 6))\n",
        "sns.barplot(x='price_range', y='aggregate_rating', data=df)\n",
        "plt.title('Relationship between Price Rating and Restaurant Rating')\n",
        "plt.xlabel('Price Rating')\n",
        "plt.ylabel('Restaurant Rating')\n",
        "plt.show()"
      ],
      "metadata": {
        "id": "OGC4ScGeKbqv"
      },
      "execution_count": null,
      "outputs": []
    },
    {
      "cell_type": "code",
      "source": [
        "# Top 10 Restaurants by Number of Votes"
      ],
      "metadata": {
        "id": "up-8GMZ1qiJs"
      },
      "execution_count": null,
      "outputs": []
    },
    {
      "cell_type": "code",
      "source": [
        "highest_votes_restaurant = df.loc[df['votes'].idxmax()]\n",
        "restaurant_name = highest_votes_restaurant['name']\n",
        "vote_count = highest_votes_restaurant['votes']\n",
        "\n",
        "print(f\"Restaurant with the highest votes: {restaurant_name}\")\n",
        "print(f\"Number of votes: {vote_count}\")"
      ],
      "metadata": {
        "id": "Hw7hyq7XL2oR"
      },
      "execution_count": null,
      "outputs": []
    },
    {
      "cell_type": "code",
      "source": [
        "sns.barplot(x='name', y='votes', data=df.sort_values(by='votes', ascending=False).head(10))\n",
        "plt.title('Top 10 Restaurants by Number of Votes')\n",
        "plt.xlabel('Restaurant Name')\n",
        "plt.ylabel('Number of Votes')\n",
        "plt.xticks(rotation=90)\n",
        "plt.show()"
      ],
      "metadata": {
        "id": "_lyOifhHSuIL"
      },
      "execution_count": null,
      "outputs": []
    },
    {
      "cell_type": "code",
      "source": [
        "# Average Rating of Top 7 Restaurant Chains (by Outlet Count)"
      ],
      "metadata": {
        "id": "2AC__c_Pqp45"
      },
      "execution_count": null,
      "outputs": []
    },
    {
      "cell_type": "code",
      "source": [
        "chain_ratings = df.groupby('name')['aggregate_rating'].mean().reset_index()\n",
        "top_chains = df['name'].value_counts().head(7).index\n",
        "avg_ratings = chain_ratings[chain_ratings['name'].isin(top_chains)]\n"
      ],
      "metadata": {
        "id": "7nChkv4qSqM5"
      },
      "execution_count": null,
      "outputs": []
    },
    {
      "cell_type": "code",
      "source": [
        "plt.figure(figsize=(10, 6))\n",
        "sns.barplot(x='name', y='aggregate_rating', data=avg_ratings)\n",
        "plt.title('Average Rating of Top 7 Restaurant Chains (by Outlet Count)')\n",
        "plt.xlabel('Chain Name')\n",
        "plt.ylabel('Average Rating')\n",
        "plt.xticks(rotation=45, ha='right')\n",
        "plt.show()"
      ],
      "metadata": {
        "id": "Yi5S48W6t3df"
      },
      "execution_count": null,
      "outputs": []
    }
  ]
}